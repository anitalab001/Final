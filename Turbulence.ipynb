{
 "cells": [
  {
   "cell_type": "code",
   "execution_count": 241,
   "id": "d7f42ba3",
   "metadata": {},
   "outputs": [],
   "source": [
    "import pandas as pd\n",
    "import numpy as np\n",
    "from tqdm import tqdm\n",
    "import matplotlib.pyplot as plt\n",
    "import warnings\n",
    "warnings.simplefilter(action='ignore')"
   ]
  },
  {
   "cell_type": "code",
   "execution_count": 242,
   "id": "9eb8238d",
   "metadata": {},
   "outputs": [
    {
     "data": {
      "application/vnd.microsoft.datawrangler.viewer.v0+json": {
       "columns": [
        {
         "name": "年月",
         "rawType": "datetime64[ns]",
         "type": "datetime"
        },
        {
         "name": "交易金額比重(外資)",
         "rawType": "float64",
         "type": "float"
        },
        {
         "name": "交易金額比重(投信)",
         "rawType": "float64",
         "type": "float"
        },
        {
         "name": "交易金額比重(自營)",
         "rawType": "float64",
         "type": "float"
        },
        {
         "name": "M1A",
         "rawType": "int64",
         "type": "integer"
        },
        {
         "name": "M1B",
         "rawType": "int64",
         "type": "integer"
        },
        {
         "name": "M2",
         "rawType": "int64",
         "type": "integer"
        }
       ],
       "ref": "2548355f-5358-45d5-8715-978abe862429",
       "rows": [
        [
         "2000-04-01 00:00:00",
         "3.5",
         "3.3",
         "1.8",
         "18570",
         "46375",
         "181348"
        ],
        [
         "2000-05-01 00:00:00",
         "4.1",
         "3.5",
         "1.8",
         "18131",
         "44730",
         "179856"
        ],
        [
         "2000-06-01 00:00:00",
         "4.8",
         "4.2",
         "2.2",
         "18768",
         "45341",
         "181637"
        ],
        [
         "2000-07-01 00:00:00",
         "5.2",
         "4.4",
         "2.0",
         "17882",
         "44179",
         "181246"
        ],
        [
         "2000-08-01 00:00:00",
         "5.4",
         "4.8",
         "2.0",
         "18255",
         "44361",
         "182138"
        ],
        [
         "2000-09-01 00:00:00",
         "6.2",
         "5.4",
         "2.1",
         "17584",
         "42935",
         "182273"
        ],
        [
         "2000-10-01 00:00:00",
         "6.7",
         "4.9",
         "1.3",
         "17429",
         "42584",
         "183185"
        ],
        [
         "2000-11-01 00:00:00",
         "6.7",
         "5.1",
         "1.3",
         "17424",
         "42851",
         "184986"
        ],
        [
         "2000-12-01 00:00:00",
         "5.9",
         "5.7",
         "1.2",
         "19026",
         "44921",
         "188978"
        ],
        [
         "2001-01-01 00:00:00",
         "5.4",
         "4.6",
         "2.2",
         "18840",
         "46061",
         "191272"
        ],
        [
         "2001-02-01 00:00:00",
         "5.4",
         "4.2",
         "1.8",
         "17825",
         "44813",
         "191522"
        ],
        [
         "2001-03-01 00:00:00",
         "5.0",
         "4.0",
         "1.7",
         "17578",
         "44681",
         "191693"
        ],
        [
         "2001-04-01 00:00:00",
         "6.7",
         "4.7",
         "1.6",
         "17104",
         "43358",
         "190172"
        ],
        [
         "2001-05-01 00:00:00",
         "9.6",
         "4.3",
         "1.4",
         "16702",
         "42408",
         "190192"
        ],
        [
         "2001-06-01 00:00:00",
         "10.1",
         "3.8",
         "1.5",
         "17822",
         "44588",
         "193545"
        ],
        [
         "2001-07-01 00:00:00",
         "10.4",
         "4.6",
         "1.5",
         "17775",
         "43835",
         "193291"
        ],
        [
         "2001-08-01 00:00:00",
         "9.4",
         "4.4",
         "1.4",
         "17177",
         "43816",
         "193989"
        ],
        [
         "2001-09-01 00:00:00",
         "10.1",
         "5.3",
         "1.4",
         "17452",
         "44514",
         "194145"
        ],
        [
         "2001-10-01 00:00:00",
         "9.7",
         "4.4",
         "1.4",
         "16946",
         "44453",
         "193704"
        ],
        [
         "2001-11-01 00:00:00",
         "7.9",
         "3.6",
         "1.8",
         "16948",
         "45725",
         "194049"
        ],
        [
         "2001-12-01 00:00:00",
         "5.1",
         "3.0",
         "1.7",
         "19187",
         "50259",
         "197369"
        ],
        [
         "2002-01-01 00:00:00",
         "5.3",
         "2.8",
         "1.6",
         "18592",
         "51236",
         "197974"
        ],
        [
         "2002-02-01 00:00:00",
         "7.3",
         "3.2",
         "1.9",
         "18999",
         "52193",
         "199631"
        ],
        [
         "2002-03-01 00:00:00",
         "6.4",
         "3.4",
         "2.3",
         "18568",
         "52447",
         "199854"
        ],
        [
         "2002-04-01 00:00:00",
         "7.2",
         "3.4",
         "1.9",
         "18476",
         "52198",
         "198847"
        ],
        [
         "2002-05-01 00:00:00",
         "9.5",
         "4.3",
         "1.9",
         "18497",
         "51528",
         "197690"
        ],
        [
         "2002-06-01 00:00:00",
         "11.8",
         "4.7",
         "1.9",
         "19667",
         "52938",
         "200062"
        ],
        [
         "2002-07-01 00:00:00",
         "9.7",
         "5.1",
         "1.9",
         "18847",
         "51597",
         "198396"
        ],
        [
         "2002-08-01 00:00:00",
         "9.4",
         "5.4",
         "1.9",
         "19285",
         "52406",
         "199035"
        ],
        [
         "2002-09-01 00:00:00",
         "9.5",
         "5.6",
         "1.8",
         "19046",
         "51630",
         "198140"
        ],
        [
         "2002-10-01 00:00:00",
         "7.4",
         "4.7",
         "1.7",
         "18921",
         "51823",
         "198296"
        ],
        [
         "2002-11-01 00:00:00",
         "6.9",
         "4.3",
         "1.7",
         "19272",
         "52591",
         "199742"
        ],
        [
         "2002-12-01 00:00:00",
         "6.7",
         "4.8",
         "2.1",
         "20905",
         "54916",
         "202105"
        ],
        [
         "2003-01-01 00:00:00",
         "6.7",
         "4.4",
         "2.2",
         "21598",
         "57310",
         "205526"
        ],
        [
         "2003-02-01 00:00:00",
         "10.1",
         "5.0",
         "2.4",
         "20063",
         "55461",
         "204283"
        ],
        [
         "2003-03-01 00:00:00",
         "12.0",
         "5.8",
         "2.1",
         "19850",
         "55182",
         "203516"
        ],
        [
         "2003-04-01 00:00:00",
         "11.0",
         "5.2",
         "1.8",
         "19845",
         "55432",
         "203328"
        ],
        [
         "2003-05-01 00:00:00",
         "13.8",
         "5.3",
         "1.5",
         "20029",
         "56100",
         "203811"
        ],
        [
         "2003-06-01 00:00:00",
         "8.8",
         "4.1",
         "2.3",
         "21199",
         "57949",
         "204991"
        ],
        [
         "2003-07-01 00:00:00",
         "7.5",
         "3.5",
         "2.8",
         "20687",
         "58357",
         "206334"
        ],
        [
         "2003-08-01 00:00:00",
         "10.3",
         "3.4",
         "2.9",
         "21309",
         "59906",
         "208013"
        ],
        [
         "2003-09-01 00:00:00",
         "12.6",
         "3.8",
         "3.2",
         "21913",
         "60808",
         "208325"
        ],
        [
         "2003-10-01 00:00:00",
         "13.1",
         "3.5",
         "3.3",
         "22277",
         "61518",
         "209257"
        ],
        [
         "2003-11-01 00:00:00",
         "13.3",
         "4.2",
         "3.1",
         "22829",
         "62236",
         "210302"
        ],
        [
         "2003-12-01 00:00:00",
         "13.8",
         "3.4",
         "3.6",
         "25247",
         "65528",
         "213583"
        ],
        [
         "2004-01-01 00:00:00",
         "13.2",
         "3.0",
         "3.6",
         "24747",
         "67622",
         "217659"
        ],
        [
         "2004-02-01 00:00:00",
         "9.3",
         "2.6",
         "3.2",
         "24385",
         "67814",
         "218733"
        ],
        [
         "2004-03-01 00:00:00",
         "11.3",
         "2.3",
         "3.7",
         "25350",
         "68916",
         "220193"
        ],
        [
         "2004-04-01 00:00:00",
         "9.3",
         "2.5",
         "3.3",
         "24936",
         "68843",
         "220690"
        ],
        [
         "2004-05-01 00:00:00",
         "13.0",
         "3.1",
         "3.8",
         "24632",
         "67732",
         "219550"
        ]
       ],
       "shape": {
        "columns": 6,
        "rows": 301
       }
      },
      "text/html": [
       "<div>\n",
       "<style scoped>\n",
       "    .dataframe tbody tr th:only-of-type {\n",
       "        vertical-align: middle;\n",
       "    }\n",
       "\n",
       "    .dataframe tbody tr th {\n",
       "        vertical-align: top;\n",
       "    }\n",
       "\n",
       "    .dataframe thead th {\n",
       "        text-align: right;\n",
       "    }\n",
       "</style>\n",
       "<table border=\"1\" class=\"dataframe\">\n",
       "  <thead>\n",
       "    <tr style=\"text-align: right;\">\n",
       "      <th></th>\n",
       "      <th>交易金額比重(外資)</th>\n",
       "      <th>交易金額比重(投信)</th>\n",
       "      <th>交易金額比重(自營)</th>\n",
       "      <th>M1A</th>\n",
       "      <th>M1B</th>\n",
       "      <th>M2</th>\n",
       "    </tr>\n",
       "    <tr>\n",
       "      <th>年月</th>\n",
       "      <th></th>\n",
       "      <th></th>\n",
       "      <th></th>\n",
       "      <th></th>\n",
       "      <th></th>\n",
       "      <th></th>\n",
       "    </tr>\n",
       "  </thead>\n",
       "  <tbody>\n",
       "    <tr>\n",
       "      <th>2000-04-01</th>\n",
       "      <td>3.5</td>\n",
       "      <td>3.3</td>\n",
       "      <td>1.8</td>\n",
       "      <td>18570</td>\n",
       "      <td>46375</td>\n",
       "      <td>181348</td>\n",
       "    </tr>\n",
       "    <tr>\n",
       "      <th>2000-05-01</th>\n",
       "      <td>4.1</td>\n",
       "      <td>3.5</td>\n",
       "      <td>1.8</td>\n",
       "      <td>18131</td>\n",
       "      <td>44730</td>\n",
       "      <td>179856</td>\n",
       "    </tr>\n",
       "    <tr>\n",
       "      <th>2000-06-01</th>\n",
       "      <td>4.8</td>\n",
       "      <td>4.2</td>\n",
       "      <td>2.2</td>\n",
       "      <td>18768</td>\n",
       "      <td>45341</td>\n",
       "      <td>181637</td>\n",
       "    </tr>\n",
       "    <tr>\n",
       "      <th>2000-07-01</th>\n",
       "      <td>5.2</td>\n",
       "      <td>4.4</td>\n",
       "      <td>2.0</td>\n",
       "      <td>17882</td>\n",
       "      <td>44179</td>\n",
       "      <td>181246</td>\n",
       "    </tr>\n",
       "    <tr>\n",
       "      <th>2000-08-01</th>\n",
       "      <td>5.4</td>\n",
       "      <td>4.8</td>\n",
       "      <td>2.0</td>\n",
       "      <td>18255</td>\n",
       "      <td>44361</td>\n",
       "      <td>182138</td>\n",
       "    </tr>\n",
       "    <tr>\n",
       "      <th>...</th>\n",
       "      <td>...</td>\n",
       "      <td>...</td>\n",
       "      <td>...</td>\n",
       "      <td>...</td>\n",
       "      <td>...</td>\n",
       "      <td>...</td>\n",
       "    </tr>\n",
       "    <tr>\n",
       "      <th>2024-12-01</th>\n",
       "      <td>34.1</td>\n",
       "      <td>4.1</td>\n",
       "      <td>4.5</td>\n",
       "      <td>115590</td>\n",
       "      <td>278455</td>\n",
       "      <td>640405</td>\n",
       "    </tr>\n",
       "    <tr>\n",
       "      <th>2025-01-01</th>\n",
       "      <td>34.7</td>\n",
       "      <td>2.7</td>\n",
       "      <td>5.1</td>\n",
       "      <td>114638</td>\n",
       "      <td>280708</td>\n",
       "      <td>646638</td>\n",
       "    </tr>\n",
       "    <tr>\n",
       "      <th>2025-02-01</th>\n",
       "      <td>36.1</td>\n",
       "      <td>2.3</td>\n",
       "      <td>4.7</td>\n",
       "      <td>115686</td>\n",
       "      <td>280013</td>\n",
       "      <td>650184</td>\n",
       "    </tr>\n",
       "    <tr>\n",
       "      <th>2025-03-01</th>\n",
       "      <td>37.4</td>\n",
       "      <td>2.8</td>\n",
       "      <td>5.8</td>\n",
       "      <td>116005</td>\n",
       "      <td>277998</td>\n",
       "      <td>649220</td>\n",
       "    </tr>\n",
       "    <tr>\n",
       "      <th>2025-04-01</th>\n",
       "      <td>37.2</td>\n",
       "      <td>2.3</td>\n",
       "      <td>5.6</td>\n",
       "      <td>116439</td>\n",
       "      <td>278350</td>\n",
       "      <td>647614</td>\n",
       "    </tr>\n",
       "  </tbody>\n",
       "</table>\n",
       "<p>301 rows × 6 columns</p>\n",
       "</div>"
      ],
      "text/plain": [
       "            交易金額比重(外資)  交易金額比重(投信)  交易金額比重(自營)     M1A     M1B      M2\n",
       "年月                                                                    \n",
       "2000-04-01         3.5         3.3         1.8   18570   46375  181348\n",
       "2000-05-01         4.1         3.5         1.8   18131   44730  179856\n",
       "2000-06-01         4.8         4.2         2.2   18768   45341  181637\n",
       "2000-07-01         5.2         4.4         2.0   17882   44179  181246\n",
       "2000-08-01         5.4         4.8         2.0   18255   44361  182138\n",
       "...                ...         ...         ...     ...     ...     ...\n",
       "2024-12-01        34.1         4.1         4.5  115590  278455  640405\n",
       "2025-01-01        34.7         2.7         5.1  114638  280708  646638\n",
       "2025-02-01        36.1         2.3         4.7  115686  280013  650184\n",
       "2025-03-01        37.4         2.8         5.8  116005  277998  649220\n",
       "2025-04-01        37.2         2.3         5.6  116439  278350  647614\n",
       "\n",
       "[301 rows x 6 columns]"
      ]
     },
     "execution_count": 242,
     "metadata": {},
     "output_type": "execute_result"
    }
   ],
   "source": [
    "data = pd.read_csv('Data/Macronomics_data.csv',index_col=0).sort_index(ascending=True)\n",
    "data.index = pd.to_datetime(data.index)\n",
    "data = data.dropna()\n",
    "# for c in data.columns:\n",
    "#     data[c] = (data[c] - data[c].rolling(12,min_periods=1).mean())\n",
    "data"
   ]
  },
  {
   "cell_type": "code",
   "execution_count": 247,
   "id": "7ea8597e",
   "metadata": {},
   "outputs": [],
   "source": [
    "df_range = data.loc['2000-01-01':]"
   ]
  },
  {
   "cell_type": "code",
   "execution_count": 248,
   "id": "e78d35cd",
   "metadata": {},
   "outputs": [
    {
     "name": "stderr",
     "output_type": "stream",
     "text": [
      "100%|██████████| 277/277 [00:00<00:00, 898.21it/s]\n"
     ]
    },
    {
     "data": {
      "application/vnd.microsoft.datawrangler.viewer.v0+json": {
       "columns": [
        {
         "name": "index",
         "rawType": "datetime64[ns]",
         "type": "datetime"
        },
        {
         "name": "I",
         "rawType": "float64",
         "type": "float"
        }
       ],
       "ref": "fca15fc8-1c7f-4a2e-935f-57ac6c25fecb",
       "rows": [
        [
         "2002-04-01 00:00:00",
         null
        ],
        [
         "2002-05-01 00:00:00",
         "3811657727252909.0"
        ],
        [
         "2002-06-01 00:00:00",
         "6062166921910468.0"
        ],
        [
         "2002-07-01 00:00:00",
         "3545926378156946.0"
        ],
        [
         "2002-08-01 00:00:00",
         "3927182719798074.5"
        ],
        [
         "2002-09-01 00:00:00",
         "2470549478675808.0"
        ],
        [
         "2002-10-01 00:00:00",
         "2166040838646486.0"
        ],
        [
         "2002-11-01 00:00:00",
         "2852651511450283.0"
        ],
        [
         "2002-12-01 00:00:00",
         "5214278814709940.0"
        ],
        [
         "2003-01-01 00:00:00",
         "9727382318809520.0"
        ],
        [
         "2003-02-01 00:00:00",
         "6545992268838806.0"
        ],
        [
         "2003-03-01 00:00:00",
         "5321483947085230.0"
        ],
        [
         "2003-04-01 00:00:00",
         "4780315604405313.0"
        ],
        [
         "2003-05-01 00:00:00",
         "5113503141392703.0"
        ],
        [
         "2003-06-01 00:00:00",
         "7066083023212013.0"
        ],
        [
         "2003-07-01 00:00:00",
         "8093970898338472.0"
        ],
        [
         "2003-08-01 00:00:00",
         "1.1301104943229978e+16"
        ],
        [
         "2003-09-01 00:00:00",
         "1.1954978240379076e+16"
        ],
        [
         "2003-10-01 00:00:00",
         "1.3509115883345748e+16"
        ],
        [
         "2003-11-01 00:00:00",
         "1.5461327780355482e+16"
        ],
        [
         "2003-12-01 00:00:00",
         "2.787385520776048e+16"
        ],
        [
         "2004-01-01 00:00:00",
         "4.337345127845499e+16"
        ],
        [
         "2004-02-01 00:00:00",
         "4.780650773375679e+16"
        ],
        [
         "2004-03-01 00:00:00",
         "5.849862521085385e+16"
        ],
        [
         "2004-04-01 00:00:00",
         "6.037868070623872e+16"
        ],
        [
         "2004-05-01 00:00:00",
         "5.020424373178456e+16"
        ],
        [
         "2004-06-01 00:00:00",
         "6.199924270736838e+16"
        ],
        [
         "2004-07-01 00:00:00",
         "6.484841114369275e+16"
        ],
        [
         "2004-08-01 00:00:00",
         "6.662673547611328e+16"
        ],
        [
         "2004-09-01 00:00:00",
         "6.442904216864339e+16"
        ],
        [
         "2004-10-01 00:00:00",
         "6.282681665262515e+16"
        ],
        [
         "2004-11-01 00:00:00",
         "6.2849623326223624e+16"
        ],
        [
         "2004-12-01 00:00:00",
         "1.0370536517494021e+17"
        ],
        [
         "2005-01-01 00:00:00",
         "1.0521797868620816e+17"
        ],
        [
         "2005-02-01 00:00:00",
         "1.1188261766647997e+17"
        ],
        [
         "2005-03-01 00:00:00",
         "1.0741175438369523e+17"
        ],
        [
         "2005-04-01 00:00:00",
         "9.40548172380707e+16"
        ],
        [
         "2005-05-01 00:00:00",
         "7.1841246600415224e+16"
        ],
        [
         "2005-06-01 00:00:00",
         "1.1578641563181203e+17"
        ],
        [
         "2005-07-01 00:00:00",
         "1.1171501740236434e+17"
        ],
        [
         "2005-08-01 00:00:00",
         "9.256053197959107e+16"
        ],
        [
         "2005-09-01 00:00:00",
         "8.735495010818525e+16"
        ],
        [
         "2005-10-01 00:00:00",
         "6.7031693170936584e+16"
        ],
        [
         "2005-11-01 00:00:00",
         "8.37747943960326e+16"
        ],
        [
         "2005-12-01 00:00:00",
         "1.6197428357279024e+17"
        ],
        [
         "2006-01-01 00:00:00",
         "2.0672148791433408e+17"
        ],
        [
         "2006-02-01 00:00:00",
         "1.6191467681366534e+17"
        ],
        [
         "2006-03-01 00:00:00",
         "1.2873638511365613e+17"
        ],
        [
         "2006-04-01 00:00:00",
         "1.5124007116315757e+17"
        ],
        [
         "2006-05-01 00:00:00",
         "1.3050753492746298e+17"
        ]
       ],
       "shape": {
        "columns": 1,
        "rows": 277
       }
      },
      "text/html": [
       "<div>\n",
       "<style scoped>\n",
       "    .dataframe tbody tr th:only-of-type {\n",
       "        vertical-align: middle;\n",
       "    }\n",
       "\n",
       "    .dataframe tbody tr th {\n",
       "        vertical-align: top;\n",
       "    }\n",
       "\n",
       "    .dataframe thead th {\n",
       "        text-align: right;\n",
       "    }\n",
       "</style>\n",
       "<table border=\"1\" class=\"dataframe\">\n",
       "  <thead>\n",
       "    <tr style=\"text-align: right;\">\n",
       "      <th></th>\n",
       "      <th>I</th>\n",
       "    </tr>\n",
       "  </thead>\n",
       "  <tbody>\n",
       "    <tr>\n",
       "      <th>2002-04-01</th>\n",
       "      <td>NaN</td>\n",
       "    </tr>\n",
       "    <tr>\n",
       "      <th>2002-05-01</th>\n",
       "      <td>3.811658e+15</td>\n",
       "    </tr>\n",
       "    <tr>\n",
       "      <th>2002-06-01</th>\n",
       "      <td>6.062167e+15</td>\n",
       "    </tr>\n",
       "    <tr>\n",
       "      <th>2002-07-01</th>\n",
       "      <td>3.545926e+15</td>\n",
       "    </tr>\n",
       "    <tr>\n",
       "      <th>2002-08-01</th>\n",
       "      <td>3.927183e+15</td>\n",
       "    </tr>\n",
       "    <tr>\n",
       "      <th>...</th>\n",
       "      <td>...</td>\n",
       "    </tr>\n",
       "    <tr>\n",
       "      <th>2024-12-01</th>\n",
       "      <td>2.856512e+19</td>\n",
       "    </tr>\n",
       "    <tr>\n",
       "      <th>2025-01-01</th>\n",
       "      <td>3.493690e+19</td>\n",
       "    </tr>\n",
       "    <tr>\n",
       "      <th>2025-02-01</th>\n",
       "      <td>3.558769e+19</td>\n",
       "    </tr>\n",
       "    <tr>\n",
       "      <th>2025-03-01</th>\n",
       "      <td>2.853814e+19</td>\n",
       "    </tr>\n",
       "    <tr>\n",
       "      <th>2025-04-01</th>\n",
       "      <td>2.288574e+19</td>\n",
       "    </tr>\n",
       "  </tbody>\n",
       "</table>\n",
       "<p>277 rows × 1 columns</p>\n",
       "</div>"
      ],
      "text/plain": [
       "                       I\n",
       "2002-04-01           NaN\n",
       "2002-05-01  3.811658e+15\n",
       "2002-06-01  6.062167e+15\n",
       "2002-07-01  3.545926e+15\n",
       "2002-08-01  3.927183e+15\n",
       "...                  ...\n",
       "2024-12-01  2.856512e+19\n",
       "2025-01-01  3.493690e+19\n",
       "2025-02-01  3.558769e+19\n",
       "2025-03-01  2.853814e+19\n",
       "2025-04-01  2.288574e+19\n",
       "\n",
       "[277 rows x 1 columns]"
      ]
     },
     "execution_count": 248,
     "metadata": {},
     "output_type": "execute_result"
    }
   ],
   "source": [
    "n=25\n",
    "df_result = pd.DataFrame()\n",
    "for i in tqdm(range(n-1,len(df_range))):\n",
    "    row = df_range.iloc[i]\n",
    "    yt = row[df_range.columns[:]]\n",
    "    d = np.matrix(df_range.iloc[:i-1,:]).T\n",
    "    cov_matrix = np.cov(d)\n",
    "    mean = df_range.iloc[i-n:i-1,:].mean()\n",
    "    diff = yt-mean\n",
    "    # print((np.matrix(diff)*cov_matrix*(np.matrix(diff).T))[0,0])\n",
    "    df_result.loc[row.name,'I'] = (np.matrix(diff)*cov_matrix*(np.matrix(diff).T))[0,0]\n",
    "df_result"
   ]
  },
  {
   "cell_type": "code",
   "execution_count": 249,
   "id": "61f4bdb3",
   "metadata": {},
   "outputs": [
    {
     "data": {
      "application/vnd.microsoft.datawrangler.viewer.v0+json": {
       "columns": [
        {
         "name": "index",
         "rawType": "datetime64[ns]",
         "type": "datetime"
        },
        {
         "name": "I",
         "rawType": "float64",
         "type": "float"
        }
       ],
       "ref": "19900d45-d66c-498b-b56e-3bb64b49a3bb",
       "rows": [
        [
         "2002-04-01 00:00:00",
         null
        ],
        [
         "2002-05-01 00:00:00",
         null
        ],
        [
         "2002-06-01 00:00:00",
         "0.7071067811865477"
        ],
        [
         "2002-07-01 00:00:00",
         "-0.6707870042154622"
        ],
        [
         "2002-08-01 00:00:00",
         "-0.3526622589400697"
        ],
        [
         "2002-09-01 00:00:00",
         "-1.1423495536798642"
        ],
        [
         "2002-10-01 00:00:00",
         "-1.0852822891411074"
        ],
        [
         "2002-11-01 00:00:00",
         "-0.5362648438541653"
        ],
        [
         "2002-12-01 00:00:00",
         "1.0902657347863771"
        ],
        [
         "2003-01-01 00:00:00",
         "2.2577932918471397"
        ],
        [
         "2003-02-01 00:00:00",
         "0.8262202927038014"
        ],
        [
         "2003-03-01 00:00:00",
         "0.2838432186472738"
        ],
        [
         "2003-04-01 00:00:00",
         "0.037149245039074935"
        ],
        [
         "2003-05-01 00:00:00",
         "0.1881576382004653"
        ],
        [
         "2003-06-01 00:00:00",
         "1.0633562336980364"
        ],
        [
         "2003-07-01 00:00:00",
         "1.400189677680893"
        ],
        [
         "2003-08-01 00:00:00",
         "2.2542046108015965"
        ],
        [
         "2003-09-01 00:00:00",
         "2.064490881200521"
        ],
        [
         "2003-10-01 00:00:00",
         "2.1355887855197033"
        ],
        [
         "2003-11-01 00:00:00",
         "2.2278132462715154"
        ],
        [
         "2003-12-01 00:00:00",
         "3.3113549334125914"
        ],
        [
         "2004-01-01 00:00:00",
         "3.473917796840638"
        ],
        [
         "2004-02-01 00:00:00",
         "2.9160930450280103"
        ],
        [
         "2004-03-01 00:00:00",
         "2.8754556479791784"
        ],
        [
         "2004-04-01 00:00:00",
         "2.488607530412341"
        ],
        [
         "2004-05-01 00:00:00",
         "1.7108727558250068"
        ],
        [
         "2004-06-01 00:00:00",
         "2.0059620220976426"
        ],
        [
         "2004-07-01 00:00:00",
         "1.8761097118674361"
        ],
        [
         "2004-08-01 00:00:00",
         "1.7345720865923626"
        ],
        [
         "2004-09-01 00:00:00",
         "1.486562683822496"
        ],
        [
         "2004-10-01 00:00:00",
         "1.2997826190546287"
        ],
        [
         "2004-11-01 00:00:00",
         "1.1936747447734608"
        ],
        [
         "2004-12-01 00:00:00",
         "2.3409650092623018"
        ],
        [
         "2005-01-01 00:00:00",
         "2.065934635189121"
        ],
        [
         "2005-02-01 00:00:00",
         "1.9901480480698959"
        ],
        [
         "2005-03-01 00:00:00",
         "1.6707920402040093"
        ],
        [
         "2005-04-01 00:00:00",
         "1.1875653786219846"
        ],
        [
         "2005-05-01 00:00:00",
         "0.48731148191089513"
        ],
        [
         "2005-06-01 00:00:00",
         "1.6414828525881298"
        ],
        [
         "2005-07-01 00:00:00",
         "1.4071985092256867"
        ],
        [
         "2005-08-01 00:00:00",
         "0.7717933865600564"
        ],
        [
         "2005-09-01 00:00:00",
         "0.5472139828764355"
        ],
        [
         "2005-10-01 00:00:00",
         "-0.22309363607350108"
        ],
        [
         "2005-11-01 00:00:00",
         "0.31593094607308697"
        ],
        [
         "2005-12-01 00:00:00",
         "2.853930235177491"
        ],
        [
         "2006-01-01 00:00:00",
         "3.2058643368255826"
        ],
        [
         "2006-02-01 00:00:00",
         "1.7742657048480914"
        ],
        [
         "2006-03-01 00:00:00",
         "0.8443949849251237"
        ],
        [
         "2006-04-01 00:00:00",
         "1.3016614227165557"
        ],
        [
         "2006-05-01 00:00:00",
         "0.7096319479796891"
        ]
       ],
       "shape": {
        "columns": 1,
        "rows": 277
       }
      },
      "text/html": [
       "<div>\n",
       "<style scoped>\n",
       "    .dataframe tbody tr th:only-of-type {\n",
       "        vertical-align: middle;\n",
       "    }\n",
       "\n",
       "    .dataframe tbody tr th {\n",
       "        vertical-align: top;\n",
       "    }\n",
       "\n",
       "    .dataframe thead th {\n",
       "        text-align: right;\n",
       "    }\n",
       "</style>\n",
       "<table border=\"1\" class=\"dataframe\">\n",
       "  <thead>\n",
       "    <tr style=\"text-align: right;\">\n",
       "      <th></th>\n",
       "      <th>I</th>\n",
       "    </tr>\n",
       "  </thead>\n",
       "  <tbody>\n",
       "    <tr>\n",
       "      <th>2002-04-01</th>\n",
       "      <td>NaN</td>\n",
       "    </tr>\n",
       "    <tr>\n",
       "      <th>2002-05-01</th>\n",
       "      <td>NaN</td>\n",
       "    </tr>\n",
       "    <tr>\n",
       "      <th>2002-06-01</th>\n",
       "      <td>0.707107</td>\n",
       "    </tr>\n",
       "    <tr>\n",
       "      <th>2002-07-01</th>\n",
       "      <td>-0.670787</td>\n",
       "    </tr>\n",
       "    <tr>\n",
       "      <th>2002-08-01</th>\n",
       "      <td>-0.352662</td>\n",
       "    </tr>\n",
       "    <tr>\n",
       "      <th>...</th>\n",
       "      <td>...</td>\n",
       "    </tr>\n",
       "    <tr>\n",
       "      <th>2024-12-01</th>\n",
       "      <td>-0.262220</td>\n",
       "    </tr>\n",
       "    <tr>\n",
       "      <th>2025-01-01</th>\n",
       "      <td>0.734266</td>\n",
       "    </tr>\n",
       "    <tr>\n",
       "      <th>2025-02-01</th>\n",
       "      <td>0.827502</td>\n",
       "    </tr>\n",
       "    <tr>\n",
       "      <th>2025-03-01</th>\n",
       "      <td>-0.239719</td>\n",
       "    </tr>\n",
       "    <tr>\n",
       "      <th>2025-04-01</th>\n",
       "      <td>-1.021401</td>\n",
       "    </tr>\n",
       "  </tbody>\n",
       "</table>\n",
       "<p>277 rows × 1 columns</p>\n",
       "</div>"
      ],
      "text/plain": [
       "                   I\n",
       "2002-04-01       NaN\n",
       "2002-05-01       NaN\n",
       "2002-06-01  0.707107\n",
       "2002-07-01 -0.670787\n",
       "2002-08-01 -0.352662\n",
       "...              ...\n",
       "2024-12-01 -0.262220\n",
       "2025-01-01  0.734266\n",
       "2025-02-01  0.827502\n",
       "2025-03-01 -0.239719\n",
       "2025-04-01 -1.021401\n",
       "\n",
       "[277 rows x 1 columns]"
      ]
     },
     "execution_count": 249,
     "metadata": {},
     "output_type": "execute_result"
    }
   ],
   "source": [
    "df_result = (df_result-df_result.rolling(24,min_periods=1).mean())/df_result.rolling(24,min_periods=1).std()\n",
    "df_result"
   ]
  },
  {
   "cell_type": "code",
   "execution_count": 250,
   "id": "3767a5ad",
   "metadata": {},
   "outputs": [
    {
     "data": {
      "text/plain": [
       "[<matplotlib.lines.Line2D at 0x1fbca3ba6e0>]"
      ]
     },
     "execution_count": 250,
     "metadata": {},
     "output_type": "execute_result"
    },
    {
     "data": {
      "image/png": "[encoded data removed]",
      "text/plain": [
       "<Figure size 2000x500 with 1 Axes>"
      ]
     },
     "metadata": {},
     "output_type": "display_data"
    }
   ],
   "source": [
    "plt.figure(figsize=(20,5))\n",
    "plt.grid()\n",
    "plt.scatter(df_result[df_result['I']==df_result['I'].max()].index,df_result['I'].max())\n",
    "plt.text(df_result[df_result['I']==df_result['I'].max()].index,df_result['I'].max(),str(df_result[df_result['I']==df_result['I'].max()].index)[16:23])\n",
    "plt.plot(df_result)"
   ]
  }
 ],
 "metadata": {
  "kernelspec": {
   "display_name": "Lab01",
   "language": "python",
   "name": "python3"
  },
  "language_info": {
   "codemirror_mode": {
    "name": "ipython",
    "version": 3
   },
   "file_extension": ".py",
   "mimetype": "text/x-python",
   "name": "python",
   "nbconvert_exporter": "python",
   "pygments_lexer": "ipython3",
   "version": "3.10.15"
  }
 },
 "nbformat": 4,
 "nbformat_minor": 5
}
